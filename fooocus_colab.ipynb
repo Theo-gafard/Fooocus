Ipip install pygit2=1.12.2
Acd /content
Igit clone https://github.com/111yasviel/Fooocus-git
Acd /content/Fooocus/models/upscale models/
Inget -0 fooocus_upscaler_s409985e.bin https://huggingface.co/lllyasviel/misc/resc
scd / content/Fooocus
Ipython entry_with_update.py -share
